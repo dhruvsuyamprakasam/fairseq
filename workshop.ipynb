{
  "cells": [
    {
      "cell_type": "markdown",
      "metadata": {
        "id": "view-in-github",
        "colab_type": "text"
      },
      "source": [
        "<a href=\"https://colab.research.google.com/github/dhruvsuyamprakasam/fairseq/blob/main/workshop.ipynb\" target=\"_parent\"><img src=\"https://colab.research.google.com/assets/colab-badge.svg\" alt=\"Open In Colab\"/></a>"
      ]
    },
    {
      "cell_type": "markdown",
      "metadata": {
        "id": "63792c16"
      },
      "source": [
        "# Union.ai Serverless Workshop\n",
        "\n",
        "Welcome to the Union.ai Serverless Workshop! In this workshop, we will cover:\n",
        "\n",
        "1. Setup workspace and connect to Union.ai Serverless\n",
        "2. Launch a simple ML workflow & get familiar with the Python SDK\n",
        "3. LLM tracking workflow using HuggingFace and Weights & Bias.\n",
        "4. Explore models using Union hosted VSCode\n",
        "\n",
        "## Setup Workspace\n",
        "\n",
        "1. If you are not signed into Google, sign in by clicking the \"Sign in\" on the upper right of this page.\n",
        "2. If you have not already, sign up for Union Serverless at: https://signup.union.ai/?group=workshop\n",
        "3. Navigate to https://serverless-1.us-east-2.s.union.ai/\n"
      ],
      "id": "63792c16"
    },
    {
      "cell_type": "code",
      "metadata": {
        "id": "49064bb3"
      },
      "source": [
        "try:\n",
        "    import google.colab\n",
        "    IN_COLAB = True\n",
        "except ImportError:\n",
        "    IN_COLAB = False\n",
        "\n",
        "if IN_COLAB:\n",
        "    !git clone --depth 1 https://github.com/unionai-oss/llm-tracking-workshop.git\n",
        "    %cd llm-tracking-workshop\n",
        "    %pip install -r dev/requirements.txt"
      ],
      "id": "49064bb3",
      "execution_count": null,
      "outputs": []
    },
    {
      "cell_type": "markdown",
      "metadata": {
        "id": "63f27b65"
      },
      "source": [
        "## Authenticate on Codespaces or Colab\n",
        "\n",
        "To authenticate with Severless run, and go to the link provided to authenticate your CLI.\n"
      ],
      "id": "63f27b65"
    },
    {
      "cell_type": "code",
      "metadata": {
        "id": "5168d5c0"
      },
      "source": [
        "!unionai create login device-flow"
      ],
      "id": "5168d5c0",
      "execution_count": null,
      "outputs": []
    },
    {
      "cell_type": "markdown",
      "metadata": {
        "id": "d16ff8e3"
      },
      "source": [
        "To make sure everything is working, run this sample workflow:\n"
      ],
      "id": "d16ff8e3"
    },
    {
      "cell_type": "code",
      "metadata": {
        "id": "f6e5c7a8"
      },
      "source": [
        "!unionai run --remote workflows/starter.py main"
      ],
      "id": "f6e5c7a8",
      "execution_count": null,
      "outputs": []
    },
    {
      "cell_type": "markdown",
      "metadata": {
        "id": "8015dde5"
      },
      "source": [
        "Go to the link provided to see your execution on Union!\n",
        "\n",
        "## ML Workflow\n",
        "\n",
        "In this section, we will launch a simple ML workflow and get familiar with the Python SDK, `flytekit`. If you are on Codespaces, you can see the `workflows/ml_workflow.py` in the IDE. On Colab, go [to this link](https://github.com/unionai-oss/llm-tracking-workshop/blob/main/workflows/ml_workflow.py) to see the code.\n",
        "\n",
        "One benefit of `flytekit` is that you can run the workflow locally as well:\n"
      ],
      "id": "8015dde5"
    },
    {
      "cell_type": "code",
      "metadata": {
        "id": "dccfbb8d"
      },
      "source": [
        "!unionai run workflows/ml_workflow.py main"
      ],
      "id": "dccfbb8d",
      "execution_count": null,
      "outputs": []
    },
    {
      "cell_type": "markdown",
      "metadata": {
        "id": "5eca47e2"
      },
      "source": [
        "And to run [the workflow](https://github.com/unionai-oss/llm-tracking-workshop/blob/main/workflows/ml_workflow.py) on Union:\n"
      ],
      "id": "5eca47e2"
    },
    {
      "cell_type": "code",
      "metadata": {
        "id": "dafcbc6b"
      },
      "source": [
        "!unionai run --remote workflows/ml_workflow.py main"
      ],
      "id": "dafcbc6b",
      "execution_count": null,
      "outputs": []
    },
    {
      "cell_type": "markdown",
      "metadata": {
        "id": "02861c61"
      },
      "source": [
        "In this section, we highlight the following features in the SDK and UI:\n",
        "\n",
        "- `@task`, `@workflow` in SDK\n",
        "- `ImageSpec`\n",
        "- Declarative infrastructure\n",
        "- Caching\n",
        "- `FlyteDeck`\n",
        "\n",
        "## LLM Workflow\n",
        "\n",
        "In this section, we run a LLM workflow using Hugging Face and Weights and Biases. If you are on Codespaces, you can see the `workflows/llm_tracking.py` in the IDE. On Colab, go [to this link](https://github.com/unionai-oss/llm-tracking-workshop/blob/main/workflows/llm_tracking.py) to see the code.\n",
        "\n",
        "First, go to [https://wandb.ai/authorize](https://wandb.ai/authorize) to log into your Weights and Biases account and get an API key. If you are creating a new Weights and Biases account, then it's simplier to sign up with a **Personal** account.\n",
        "\n",
        "Run the following command to create a secret on Union and paste your wandb API key:\n"
      ],
      "id": "02861c61"
    },
    {
      "cell_type": "code",
      "metadata": {
        "id": "99938745"
      },
      "source": [
        "!unionai create secret wandb_api_key"
      ],
      "id": "99938745",
      "execution_count": null,
      "outputs": []
    },
    {
      "cell_type": "markdown",
      "metadata": {
        "id": "683efa6b"
      },
      "source": [
        "To see all your secrets run:\n"
      ],
      "id": "683efa6b"
    },
    {
      "cell_type": "code",
      "metadata": {
        "id": "57501e97"
      },
      "source": [
        "!unionai get secret"
      ],
      "id": "57501e97",
      "execution_count": null,
      "outputs": []
    },
    {
      "cell_type": "markdown",
      "metadata": {
        "id": "3dc402db"
      },
      "source": [
        "If you are running into an issue with the secrets, uncomment the following code to delete the secret and try again:\n"
      ],
      "id": "3dc402db"
    },
    {
      "cell_type": "code",
      "metadata": {
        "id": "8f169683"
      },
      "source": [
        "# !unionai delete secret wandb_api_key"
      ],
      "id": "8f169683",
      "execution_count": null,
      "outputs": []
    },
    {
      "cell_type": "markdown",
      "metadata": {
        "id": "b7652114"
      },
      "source": [
        "With the secret define, you can now run [the workflow](https://github.com/unionai-oss/llm-tracking-workshop/blob/main/workflows/llm_tracking.py) on Union:\n"
      ],
      "id": "b7652114"
    },
    {
      "cell_type": "code",
      "metadata": {
        "id": "96d12db2"
      },
      "source": [
        "!unionai run --remote workflows/llm_tracking.py main \\\n",
        "    --wandb_project unionai-serverless-demo \\\n",
        "    --model distilbert-base-uncased"
      ],
      "id": "96d12db2",
      "execution_count": null,
      "outputs": []
    },
    {
      "cell_type": "markdown",
      "metadata": {
        "id": "2fd64c9e"
      },
      "source": [
        "Run the following to get the execution id of the workflow we just launched.\n"
      ],
      "id": "2fd64c9e"
    },
    {
      "cell_type": "code",
      "metadata": {
        "id": "ac42a2f1"
      },
      "source": [
        "from utils import get_recent_execution_id\n",
        "from unionai.remote import UnionRemote\n",
        "\n",
        "remote = UnionRemote()\n",
        "EXECUTION_ID = get_recent_execution_id(\"llm_tracking.main\", remote)\n",
        "\n",
        "# Make sure the execution ID matches the one above\n",
        "print(EXECUTION_ID)"
      ],
      "id": "ac42a2f1",
      "execution_count": null,
      "outputs": []
    },
    {
      "cell_type": "markdown",
      "metadata": {
        "id": "c5ba2a11"
      },
      "source": [
        "Models you can use are:\n",
        "- `bert-base-cased`\n",
        "- `distilbert-base-uncased`\n",
        "- `roberta-base`\n",
        "\n",
        "In this section, we highlight the following code and UI features:\n",
        "\n",
        "- Secrets API\n",
        "- UI to trigger workflow\n",
        "- Task level metrics for GPUs\n",
        "- Error handling\n",
        "\n",
        "## VSCode Integration\n",
        "\n",
        "In this section, we will launch a VSCode instance hosted by Union to interact with the LLM trained by the previous workflow. To get the URI for our model, copy and paste the execution id into the following cell:\n"
      ],
      "id": "c5ba2a11"
    },
    {
      "cell_type": "code",
      "metadata": {
        "id": "c83c2d87"
      },
      "source": [
        "execution = remote.fetch_execution(name=EXECUTION_ID)\n",
        "llm_uri = execution.outputs[\"o1\"].remote_source\n",
        "\n",
        "print(llm_uri)"
      ],
      "id": "c83c2d87",
      "execution_count": null,
      "outputs": []
    },
    {
      "cell_type": "markdown",
      "metadata": {
        "id": "6992dd9a"
      },
      "source": [
        "Launch the vscode environment by running:\n"
      ],
      "id": "6992dd9a"
    },
    {
      "cell_type": "code",
      "metadata": {
        "id": "dea6dd1f"
      },
      "source": [
        "from utils import launch_vscode, stop_vscode\n",
        "\n",
        "vscode_execution_id = launch_vscode(llm_uri, remote)"
      ],
      "id": "dea6dd1f",
      "execution_count": null,
      "outputs": []
    },
    {
      "cell_type": "markdown",
      "metadata": {
        "id": "6694b492"
      },
      "source": [
        "In the VSCode environment:\n",
        "1. Open the `interact_with_model.py` file and click on `Run Cell` button at the top of file.\n",
        "2. There are reviews in `interact_with_model.py` that you can pass to your model.\n",
        "\n",
        "We will highlight how to get the model in Union's VSCode enviornment and how to use Jupyter to interact query the model.\n",
        "\n",
        "To stop the VSCode environment, uncomment the following and run it:\n"
      ],
      "id": "6694b492"
    },
    {
      "cell_type": "code",
      "metadata": {
        "id": "a32afa1a"
      },
      "source": [
        "# stop_vscode(vscode_execution_id, remote)"
      ],
      "id": "a32afa1a",
      "execution_count": null,
      "outputs": []
    },
    {
      "cell_type": "markdown",
      "metadata": {
        "id": "74604452"
      },
      "source": [
        "Thank you for attending this workshop!"
      ],
      "id": "74604452"
    }
  ],
  "metadata": {
    "kernelspec": {
      "name": "python3",
      "language": "python",
      "display_name": "Python 3 (ipykernel)"
    },
    "colab": {
      "provenance": [],
      "include_colab_link": true
    }
  },
  "nbformat": 4,
  "nbformat_minor": 5
}